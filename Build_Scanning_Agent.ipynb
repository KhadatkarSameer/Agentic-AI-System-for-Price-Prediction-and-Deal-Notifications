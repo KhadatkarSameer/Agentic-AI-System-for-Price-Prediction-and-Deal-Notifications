{
 "cells": [
  {
   "cell_type": "markdown",
   "id": "0df0d850-49eb-4a0b-a27a-146969db710d",
   "metadata": {},
   "source": [
    "# ScanningAgent\n",
    "\n",
    "Looks for promising deals by subscribing to RSS feeds."
   ]
  },
  {
   "cell_type": "code",
   "execution_count": 1,
   "id": "d3763a79-8a5a-4300-8de4-93e85475af10",
   "metadata": {},
   "outputs": [],
   "source": [
    "# imports\n",
    "\n",
    "import os\n",
    "import json\n",
    "from dotenv import load_dotenv\n",
    "from openai import OpenAI\n",
    "from agents.deals import ScrapedDeal, DealSelection"
   ]
  },
  {
   "cell_type": "code",
   "execution_count": 2,
   "id": "c6469e32-16c3-4443-9475-ade710ef6933",
   "metadata": {},
   "outputs": [],
   "source": [
    "# Initialize and constants\n",
    "\n",
    "load_dotenv(override=True)\n",
    "os.environ['OPENAI_API_KEY'] = os.getenv('OPENAI_API_KEY', 'your-key-if-not-using-env')\n",
    "MODEL = 'gpt-4o-mini'\n",
    "openai = OpenAI()"
   ]
  },
  {
   "cell_type": "code",
   "execution_count": 3,
   "id": "afece9db-8cd4-46be-ac57-0b472e84da7d",
   "metadata": {},
   "outputs": [
    {
     "name": "stderr",
     "output_type": "stream",
     "text": [
      "100%|███████████████████████████████████████████████████████████████████████████████████| 5/5 [15:13<00:00, 182.79s/it]\n"
     ]
    }
   ],
   "source": [
    "deals = ScrapedDeal.fetch(show_progress=True)"
   ]
  },
  {
   "cell_type": "code",
   "execution_count": 4,
   "id": "8cd15c4d-eb44-4601-bf0c-f945c1d8e3ec",
   "metadata": {},
   "outputs": [
    {
     "data": {
      "text/plain": [
       "50"
      ]
     },
     "execution_count": 4,
     "metadata": {},
     "output_type": "execute_result"
    }
   ],
   "source": [
    "len(deals)"
   ]
  },
  {
   "cell_type": "code",
   "execution_count": 5,
   "id": "4259f30a-6455-49ed-8863-2f9ddd4776cb",
   "metadata": {},
   "outputs": [
    {
     "data": {
      "text/plain": [
       "'Title: Dyson Outlet Deals at eBay: Up to 60% off + extra $5 off + free shipping\\nDetails: A selection of refurbished Dyson vacuum cleaners, hair care tools, and fans are discounted by up to 60% in eBay\\'s outlet section.\\xa0 Plus, if you pay with Venmo, you can knock an extra $5 off your order with coupon code \"YUSFSID47J9KN87M\". Pictured is the refurb Dyson SV29 Outsize Extra Cordless Vacuum Cleaner, which is $235 after the Venmo promo code (it originally cost $600 new). They come with Allstate warranties with details on the individual product pages. Shop Now at eBay\\nFeatures: \\nURL: https://www.dealnews.com/Dyson-Outlet-Deals-at-eBay-Up-to-60-off-extra-5-off-free-shipping/21744009.html?iref=rss-c196'"
      ]
     },
     "execution_count": 5,
     "metadata": {},
     "output_type": "execute_result"
    }
   ],
   "source": [
    "deals[44].describe()"
   ]
  },
  {
   "cell_type": "code",
   "execution_count": 6,
   "id": "8100e5ac-38f5-40c1-a712-08ae12c85038",
   "metadata": {},
   "outputs": [],
   "source": [
    "system_prompt = \"\"\"You identify and summarize the 5 most detailed deals from a list, by selecting deals that have the most detailed, high quality description and the most clear price.\n",
    "Respond strictly in JSON with no explanation, using this format. You should provide the price as a number derived from the description. If the price of a deal isn't clear, do not include that deal in your response.\n",
    "Most important is that you respond with the 5 deals that have the most detailed product description with price. It's not important to mention the terms of the deal; most important is a thorough description of the product.\n",
    "Be careful with products that are described as \"$XXX off\" or \"reduced by $XXX\" - this isn't the actual price of the product. Only respond with products when you are highly confident about the price. \n",
    "\n",
    "{\"deals\": [\n",
    "    {\n",
    "        \"product_description\": \"Your clearly expressed summary of the product in 4-5 sentences. Details of the item are much more important than why it's a good deal. Avoid mentioning discounts and coupons; focus on the item itself. There should be a paragpraph of text for each item you choose.\",\n",
    "        \"price\": 99.99,\n",
    "        \"url\": \"the url as provided\"\n",
    "    },\n",
    "    ...\n",
    "]}\"\"\""
   ]
  },
  {
   "cell_type": "code",
   "execution_count": 7,
   "id": "f4bca170-af71-40c9-9597-1d72980c74d8",
   "metadata": {},
   "outputs": [],
   "source": [
    "user_prompt = \"\"\"Respond with the most promising 5 deals from this list, selecting those which have the most detailed, high quality product description and a clear price.\n",
    "Respond strictly in JSON, and only JSON. You should rephrase the description to be a summary of the product itself, not the terms of the deal.\n",
    "Remember to respond with a paragraph of text in the product_description field for each of the 5 items that you select.\n",
    "Be careful with products that are described as \"$XXX off\" or \"reduced by $XXX\" - this isn't the actual price of the product. Only respond with products when you are highly confident about the price. \n",
    "\n",
    "Deals:\n",
    "\n",
    "\"\"\"\n",
    "user_prompt += '\\n\\n'.join([deal.describe() for deal in deals])"
   ]
  },
  {
   "cell_type": "code",
   "execution_count": 8,
   "id": "020947a6-561b-417b-98a0-a085e31d2ce3",
   "metadata": {},
   "outputs": [
    {
     "name": "stdout",
     "output_type": "stream",
     "text": [
      "Respond with the most promising 5 deals from this list, selecting those which have the most detailed, high quality product description and a clear price.\n",
      "Respond strictly in JSON, and only JSON. You should rephrase the description to be a summary of the product itself, not the terms of the deal.\n",
      "Remember to respond with a paragraph of text in the product_description field for each of the 5 items that you select.\n",
      "Be careful with products that are described as \"$XXX off\" or \"reduced by $XXX\" - this isn't the actual price of the product. Only respond with products when you are highly confident about the price. \n",
      "\n",
      "Deals:\n",
      "\n",
      "Title: Refurb Samsung Galaxy Watch 4 44mm Smartwatch for $34 + free shipping\n",
      "Details: It's an old model but a great price for a big-brand smartwatch (you'd pay $55 for a refurb at Amazon). A 1-year Allstate warranty applies. Buy Now at eBay\n",
      "Features: Auto Workout Tracking advanced sleep / continuous SpO2 monitoring 44mm AMOLED display 164 feet water resistance Android OS Model: SM-R870 UPC: 887276550282\n",
      "URL: https://www.dealnews.com/products/Samsung/Samsung-Galaxy-Watch-4-44-mm-Smartwatch/330023.html?iref=rss-c142\n",
      "\n",
      "Title: SideDeal-O-RAMA Gadget Deals: Up to 83% off + free shipping\n",
      "Details: Save on air purifiers, vacuums, batteries, and more. We've pictured the Refurb Fanttik S1 Pro Electric Screwdriver for $30 ($70 off). Plus, use coupon code \"DEALNEWS\" to get free shipping, an additional $8.99 savings. Shop Now at SideDeal\n",
      "Features: \n",
      "URL: https://www.dealnews.com/Side-Deal-O-RAMA-Gadget-Deals-Up-to-83-off-free-shipping/21744014.html?iref=rss-c142\n",
      "\n",
      "Title: Refurb Unlocked Samsung Galaxy S22 5G 128GB Phone for $169 + free shipping\n",
      "Details: It's the first time we've seen this S22 128GB phone fall under $200 (in any condition). If you pay with Venmo and apply coupon code \"YUSFSID47J9KN87M\", you'll get this price (you pay just $5 more if not). You'd pay $201 for a refurb at Amazon. A 1-year Allstate warranty applies. Buy Now at eBay\n",
      "Features: \n",
      "URL: https://w\n"
     ]
    }
   ],
   "source": [
    "print(user_prompt[:2000])"
   ]
  },
  {
   "cell_type": "code",
   "execution_count": 9,
   "id": "7de46f74-868c-4127-8a68-cf2da7d600bb",
   "metadata": {},
   "outputs": [],
   "source": [
    "def get_recommendations():\n",
    "    completion = openai.beta.chat.completions.parse(\n",
    "        model=\"gpt-4o-mini\",\n",
    "        messages=[\n",
    "            {\"role\": \"system\", \"content\": system_prompt},\n",
    "            {\"role\": \"user\", \"content\": user_prompt}\n",
    "      ],\n",
    "        response_format=DealSelection\n",
    "    )\n",
    "    result = completion.choices[0].message.parsed\n",
    "    return result"
   ]
  },
  {
   "cell_type": "code",
   "execution_count": 10,
   "id": "4c06270d-8c17-4d5a-9cfe-b6cefe788d5e",
   "metadata": {},
   "outputs": [],
   "source": [
    "result = get_recommendations()"
   ]
  },
  {
   "cell_type": "code",
   "execution_count": 11,
   "id": "84e62845-3338-441a-8161-c70097af4773",
   "metadata": {},
   "outputs": [
    {
     "data": {
      "text/plain": [
       "5"
      ]
     },
     "execution_count": 11,
     "metadata": {},
     "output_type": "execute_result"
    }
   ],
   "source": [
    "len(result.deals)"
   ]
  },
  {
   "cell_type": "code",
   "execution_count": 12,
   "id": "e5554a0a-ae40-4684-ad3e-faa3d22e030c",
   "metadata": {},
   "outputs": [
    {
     "data": {
      "text/plain": [
       "Deal(product_description=\"The Refurbished Unlocked Samsung Galaxy S22 5G phone comes with 128GB of internal storage, perfect for users who need ample space for apps, photos, and videos. Known for its stunning camera capabilities and smooth performance, this device runs efficiently on Android OS, ensuring quick access to all your apps. The phone is backed by a one-year Allstate warranty, providing you with peace of mind regarding its refurbished condition. It's an ideal choice for anyone looking to upgrade their mobile experience without breaking the bank.\", price=169.0, url='https://www.dealnews.com/products/Samsung/Unlocked-Samsung-Galaxy-S22-5-G-128-GB-Phone/470195.html?iref=rss-c142')"
      ]
     },
     "execution_count": 12,
     "metadata": {},
     "output_type": "execute_result"
    }
   ],
   "source": [
    "result.deals[1]"
   ]
  },
  {
   "cell_type": "code",
   "execution_count": 13,
   "id": "8bdc57fb-7497-47af-a643-6ba5a21cc17e",
   "metadata": {},
   "outputs": [],
   "source": [
    "from agents.scanner_agent import ScannerAgent"
   ]
  },
  {
   "cell_type": "code",
   "execution_count": 14,
   "id": "132278bc-217a-43a6-b6c4-724140c6a225",
   "metadata": {},
   "outputs": [],
   "source": [
    "agent = ScannerAgent()\n",
    "result = agent.scan()"
   ]
  },
  {
   "cell_type": "code",
   "execution_count": 15,
   "id": "2e1d013a-c930-4dad-901b-41433379e14b",
   "metadata": {},
   "outputs": [
    {
     "data": {
      "text/plain": [
       "DealSelection(deals=[Deal(product_description='The Refurbished Samsung Galaxy Watch 4 features a 44mm AMOLED display with advanced health and fitness tracking capabilities. It boasts auto workout tracking, continuous SpO2 monitoring, and is water-resistant up to 164 feet. This smartwatch runs on Android OS, model SM-R870, and comes with a 1-year Allstate warranty, making it an excellent choice for those looking to integrate smart technology into their fitness routine.', price=34.0, url='https://www.dealnews.com/products/Samsung/Samsung-Galaxy-Watch-4-44-mm-Smartwatch/330023.html?iref=rss-c142'), Deal(product_description='The Refurbished Unlocked Samsung Galaxy S22 5G offers 128GB of storage, making it a great deal for a premium smartphone experience. This device features a high-quality camera, impressive battery life, and the latest 5G technology for fast connectivity. It also comes with a 1-year warranty, ensuring reliability. This phone is an excellent option for users looking for a powerful device without breaking the bank.', price=169.0, url='https://www.dealnews.com/products/Samsung/Unlocked-Samsung-Galaxy-S22-5-G-128-GB-Phone/470195.html?iref=rss-c142'), Deal(product_description='The Certified Refurb Dreame X50 Ultra Robot Vacuum and Mop features smart obstacle avoidance and a powerful 20,000Pa suction capability. This device is designed for efficiency, with automatic maintenance and advanced mop technology to keep your floors spotless. It is available in both white and black and comes with a significant savings on its usual price, alongside a free shipping option.', price=940.0, url='https://www.dealnews.com/Certified-Refurb-Dreame-X50-Ultra-20-000-Pa-Auto-Empty-Robot-Vacuum-and-Mop-for-940-free-shipping/21743440.html?iref=rss-f1912'), Deal(product_description=\"The Birdfy Smart Bird Feeder combines technology with nature by featuring a built-in camera that uses AI to identify over 6,000 bird species. It connects to your 2.4GHz WiFi for easy monitoring and interaction. With half-off pricing, this feeder makes birdwatching more engaging and educational. It's perfect for bird enthusiasts looking to enhance their backyard experience.\", price=100.0, url='https://www.dealnews.com/Birdfy-Smart-Bird-Feeder-with-Camera-and-AI-Species-Identification-for-100-free-shipping/21743016.html?iref=rss-f1912'), Deal(product_description='The Samsung 7.5-Cubic Foot Smart Electric Dryer features Steam Sanitize+ and Sensor Dry technology, making laundry chores more efficient and effective. This dryer supports multiple installation options and Wi-Fi connectivity for smart home integration. With a robust design and generous capacity, it is perfectly suited for families or anyone managing substantial laundry loads.', price=849.0, url='https://www.dealnews.com/products/Samsung/7-5-Cubic-Foot-Smart-Electric-Dryer-with-Steam-Sanitize-and-Sensor-Dry/490227.html?iref=rss-f1912')])"
      ]
     },
     "execution_count": 15,
     "metadata": {},
     "output_type": "execute_result"
    }
   ],
   "source": [
    "result"
   ]
  },
  {
   "cell_type": "code",
   "execution_count": null,
   "id": "5ee2e837-1f1d-42d4-8bc4-51cccc343006",
   "metadata": {},
   "outputs": [],
   "source": []
  }
 ],
 "metadata": {
  "kernelspec": {
   "display_name": "Python 3 (ipykernel)",
   "language": "python",
   "name": "python3"
  },
  "language_info": {
   "codemirror_mode": {
    "name": "ipython",
    "version": 3
   },
   "file_extension": ".py",
   "mimetype": "text/x-python",
   "name": "python",
   "nbconvert_exporter": "python",
   "pygments_lexer": "ipython3",
   "version": "3.11.11"
  }
 },
 "nbformat": 4,
 "nbformat_minor": 5
}
